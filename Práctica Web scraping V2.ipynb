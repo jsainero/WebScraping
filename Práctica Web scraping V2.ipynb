{
 "cells": [
  {
   "cell_type": "code",
   "execution_count": 1,
   "metadata": {},
   "outputs": [],
   "source": [
    "import pandas as pd\n",
    "import numpy as np\n",
    "import os\n",
    "import csv\n",
    "from datetime import datetime\n",
    "from datetime import timedelta\n",
    "from bs4 import BeautifulSoup"
   ]
  },
  {
   "cell_type": "code",
   "execution_count": 2,
   "metadata": {},
   "outputs": [],
   "source": [
    "#pip install selenium"
   ]
  },
  {
   "cell_type": "code",
   "execution_count": 3,
   "metadata": {},
   "outputs": [],
   "source": [
    "from selenium import webdriver\n",
    "from selenium.webdriver.common.keys import Keys"
   ]
  },
  {
   "cell_type": "code",
   "execution_count": 4,
   "metadata": {},
   "outputs": [
    {
     "name": "stderr",
     "output_type": "stream",
     "text": [
      "<ipython-input-4-84fa81a2448f>:3: DeprecationWarning: use options instead of chrome_options\n",
      "  driver = webdriver.Chrome(chrome_options=options)\n"
     ]
    }
   ],
   "source": [
    "options = webdriver.ChromeOptions()\n",
    "options.add_argument('user-agent = Mozilla/5.0 (Windows NT 10.0; Win64; x64) AppleWebKit/537.36 (KHTML, like Gecko) Chrome/99.0.4844.84 Safari/537.36')\n",
    "driver = webdriver.Chrome(chrome_options=options)\n",
    "driver.get(\"https://genealogy.math.ndsu.nodak.edu/\")"
   ]
  },
  {
   "cell_type": "code",
   "execution_count": 5,
   "metadata": {},
   "outputs": [],
   "source": [
    "#cargamos el contenido (ya se podría cerrar la pestaña)\n",
    "soup = BeautifulSoup(driver.page_source)"
   ]
  },
  {
   "cell_type": "code",
   "execution_count": 6,
   "metadata": {},
   "outputs": [
    {
     "name": "stdout",
     "output_type": "stream",
     "text": [
      "[<tr><td><a href=\"id.php?id=265747\">Nguengue Louvouandou, Apépé Jugeandène</a></td>\n",
      "<td>Marien Ngouabi University</td>\n",
      "<td>2019</td></tr>, <tr><td><a href=\"id.php?id=79520\">Pepe, James</a></td>\n",
      "<td>Massachusetts Institute of Technology</td>\n",
      "<td>1972</td></tr>, <tr><td><a href=\"id.php?id=25297\">Pepe, Margaret</a></td>\n",
      "<td>University of Washington</td>\n",
      "<td>1986</td></tr>, <tr><td><a href=\"id.php?id=2593\">Pepe, Wilfrid</a></td>\n",
      "<td>Indiana University</td>\n",
      "<td>1966</td></tr>, <tr><td><a href=\"id.php?id=137357\">Pepe, William</a></td>\n",
      "<td>University of Connecticut</td>\n",
      "<td>2007</td></tr>, <tr><td><a href=\"id.php?id=141256\">Peperko, Aljoša</a></td>\n",
      "<td>University of Ljubljana</td>\n",
      "<td>2008</td></tr>, <tr><td><a href=\"id.php?id=197815\">Peperstraete, Jan</a></td>\n",
      "<td></td>\n",
      "<td></td></tr>, <tr><td><a href=\"id.php?id=109182\">Quintana, Jose (Pepe)</a></td>\n",
      "<td>University of Warwick</td>\n",
      "<td>1987</td></tr>]\n"
     ]
    }
   ],
   "source": [
    "main_content = soup.find(id='mainContent').table\n",
    "authors_searched = main_content.find_all('tr')\n",
    "print(authors_searched)"
   ]
  },
  {
   "cell_type": "code",
   "execution_count": 7,
   "metadata": {},
   "outputs": [],
   "source": [
    "import re\n",
    "\n",
    "# función que dada una lista de autores extraída de la búsqueda devuelve sus ids\n",
    "# para luego hacer peticiones con cada id a https://genealogy.math.ndsu.nodak.edu/id.php?id=<id>\n",
    "# y de ahí extraer la info\n",
    "def authors_ids(authors_searched):\n",
    "    ids = []\n",
    "    for author in authors_searched:\n",
    "        link = author.find('a').get('href')\n",
    "        id = re.search('id=(.*)', link).group(1)\n",
    "        ids.append(id)\n",
    "    return ids"
   ]
  },
  {
   "cell_type": "code",
   "execution_count": 8,
   "metadata": {},
   "outputs": [
    {
     "name": "stdout",
     "output_type": "stream",
     "text": [
      "['265747', '79520', '25297', '2593', '137357', '141256', '197815', '109182']\n"
     ]
    }
   ],
   "source": [
    "print(authors_ids(authors_searched))"
   ]
  },
  {
   "cell_type": "code",
   "execution_count": 9,
   "metadata": {},
   "outputs": [],
   "source": [
    "def authors_information(authors_id):\n",
    "    \"\"\"\n",
    "    Realiza web scraping en las pestañas de los autores\n",
    "    con id en 'authors_id'.\n",
    "    \n",
    "    Para cada id se scrapea la página de ese autor. Mediante las\n",
    "    funciones principales de BeautifulSoup y las expresiones\n",
    "    regulares, se van guardando, en este orden: nombre, universidad,\n",
    "    año, pais, titulo, tutores y estudiantes.\n",
    "    Finalmente, se crea una lista con los valores de estos campos y\n",
    "    se añade a la lista 'information'.\n",
    "    \n",
    "    Parámetros:\n",
    "        authors_id: lista de los ids de los autores obtenidos según\n",
    "        la búsqueda\n",
    "\n",
    "    Devuelve:\n",
    "        information: lista anidada, en cada una la información de un autor/a.\n",
    "    \"\"\"\n",
    "    information = []\n",
    "    for identificador in authors_id:\n",
    "        # LECTURA DE LA PÁGINA\n",
    "        urls = driver.get(\"https://genealogy.math.ndsu.nodak.edu/id.php?id=\"+identificador)\n",
    "        soup = BeautifulSoup(driver.page_source)\n",
    "\n",
    "        # WEB SCRAPING\n",
    "        main_content2 = soup.find(id='mainContent')\n",
    "        \n",
    "        # Nombre autor/autora\n",
    "        nombre = main_content2.find('h2').get_text().strip() #strip() elimina los espacios en blanco al inicio y al final\n",
    "        \n",
    "        # Universidad\n",
    "        universidad = main_content2.find_next('span').find_next('span').get_text()\n",
    "        \n",
    "        # Año de publicación de la tesis\n",
    "        año = main_content2.find('span').get_text()\n",
    "        año = ''.join(re.findall(r\"\\d{4}$\", año))\n",
    "        \n",
    "        # País\n",
    "        if main_content2.find('img'):\n",
    "            pais = main_content2.find('img').get('title')\n",
    "        else:\n",
    "            pais = ''\n",
    "            \n",
    "        # Título de la tesis\n",
    "        for div in range(0, len(main_content2.find_all('div'))):\n",
    "            if div==3:\n",
    "                # PRIMERA OPCIÓN\n",
    "                #titulo = main_content2.find_all('div')[div].find_next('span').find_next('span').get_text().strip()\n",
    "                # SEGUNDA OPCIÓN\n",
    "                titulo = ''.join(main_content2.find_all('div')[div].contents[2].contents).strip()\n",
    "\n",
    "        # Tutor/Tutores\n",
    "        advisor_text = re.search(r'Advisor.*',main_content2.get_text()).group(0)\n",
    "        advisors_pre = re.split(r\"No students known.\", advisor_text)[0]\n",
    "        advisors = re.split(r\"Advisor: |Advisor \\d: \",advisors_pre)[1:]\n",
    "\n",
    "        # Estudiantes\n",
    "        students = []\n",
    "        if main_content2.table != None:\n",
    "            students_searched = main_content2.table.find_all('a')\n",
    "            for stud in students_searched:\n",
    "                students.append(stud.get_text())\n",
    "        #else:\n",
    "        #    students.append('')\n",
    "\n",
    "        elemento = [nombre, universidad, año, pais, titulo, advisors, students]\n",
    "        information.append(elemento)\n",
    "    return information"
   ]
  },
  {
   "cell_type": "code",
   "execution_count": 12,
   "metadata": {},
   "outputs": [
    {
     "data": {
      "text/plain": [
       "[['Apépé Jugeandène  Nguengue Louvouandou',\n",
       "  'Marien Ngouabi University',\n",
       "  '2019',\n",
       "  'Democratic Republic of the Congo',\n",
       "  'Poisson structure on Weil bundle and generalization of the Weil bundle',\n",
       "  ['Basile Guy Richard Bossoto'],\n",
       "  []],\n",
       " ['James T. Pepe',\n",
       "  'Massachusetts Institute of Technology',\n",
       "  '1972',\n",
       "  'UnitedStates',\n",
       "  'Studies in Serial Learning and Saccadic Eye Movement',\n",
       "  ['Stephen  Grossberg'],\n",
       "  []],\n",
       " ['Margaret Sullivan Pepe',\n",
       "  'University of Washington',\n",
       "  '1986',\n",
       "  'UnitedStates',\n",
       "  '',\n",
       "  ['Thomas Richard Fleming'],\n",
       "  ['Alonzo, Todd',\n",
       "   'Couper, David',\n",
       "   'Dodd, Lori',\n",
       "   'Huang, Ying',\n",
       "   'Janes, Holly',\n",
       "   'Moskowitz, Chaya',\n",
       "   'Nelson, Jennifer',\n",
       "   'Reilly, Marie',\n",
       "   'Zhou, Haibo']],\n",
       " ['Wilfrid Dennis Pepe',\n",
       "  'Indiana University',\n",
       "  '1966',\n",
       "  'UnitedStates',\n",
       "  'Lebesgue Area and the Differential Geometry of C1 Surfaces',\n",
       "  ['William P. Ziemer'],\n",
       "  []],\n",
       " ['William  Pepe',\n",
       "  'University of Connecticut',\n",
       "  '2007',\n",
       "  'UnitedStates',\n",
       "  'On Some Bounded Risk Sequential Procedures for Exponential Mean and Normal Density Estimation',\n",
       "  ['Nitis  Mukhopadhyay'],\n",
       "  []],\n",
       " ['Aljoša  Peperko',\n",
       "  'University of Ljubljana',\n",
       "  '2008',\n",
       "  'Slovenia',\n",
       "  'Spektralni radij integralskih operatorjev in spektralni radij matrik v max-algebri (Slovenian)',\n",
       "  ['Roman  Drnovšek'],\n",
       "  []],\n",
       " ['Jan A. Peperstraete',\n",
       "  '',\n",
       "  '',\n",
       "  '',\n",
       "  '',\n",
       "  ['Unknown'],\n",
       "  ['Lauwereins, Rudy', 'Oosterlinck, Andre']],\n",
       " ['Jose (Pepe) M. Quintana',\n",
       "  'University of Warwick',\n",
       "  '1987',\n",
       "  'UnitedKingdom',\n",
       "  '',\n",
       "  ['Mike  West'],\n",
       "  []]]"
      ]
     },
     "execution_count": 12,
     "metadata": {},
     "output_type": "execute_result"
    }
   ],
   "source": [
    "info = authors_information(authors_ids(authors_searched))\n",
    "info"
   ]
  },
  {
   "cell_type": "code",
   "execution_count": 13,
   "metadata": {},
   "outputs": [],
   "source": [
    "import csv\n",
    "headers = ['Nombre', 'Universidad', 'Año', 'País', 'Título', 'Tutores', 'Estudiantes']\n",
    "\n",
    "# OPCIÓN 1\n",
    "with open('mathematicians_dataset.csv', 'w', encoding='UTF8', newline='') as csvfile:\n",
    "    for column in range(len(headers)):\n",
    "        csvfile.write((headers[column]) + \";\")\n",
    "    csvfile.write(\"\\n\");\n",
    "    for i in range(len(info)):\n",
    "        for j in range(len(info[i])):\n",
    "            csvfile.write(str(info[i][j]) + \";\");\n",
    "        csvfile.write(\"\\n\");"
   ]
  },
  {
   "cell_type": "code",
   "execution_count": 15,
   "metadata": {},
   "outputs": [],
   "source": [
    "# OPCIÓN 2 (Las dos opciones salen igual)\n",
    "with open('mathematicians_dataset2.csv', 'w', encoding='UTF8', newline='') as file:\n",
    "    writer = csv.writer(file, delimiter=';')\n",
    "    writer.writerow(headers)\n",
    "    writer.writerows(info)"
   ]
  },
  {
   "cell_type": "code",
   "execution_count": 16,
   "metadata": {},
   "outputs": [
    {
     "name": "stdout",
     "output_type": "stream",
     "text": [
      "                                   Nombre  \\\n",
      "0  Apépé Jugeandène  Nguengue Louvouandou   \n",
      "1                           James T. Pepe   \n",
      "2                  Margaret Sullivan Pepe   \n",
      "3                     Wilfrid Dennis Pepe   \n",
      "4                           William  Pepe   \n",
      "5                         Aljoša  Peperko   \n",
      "6                     Jan A. Peperstraete   \n",
      "7                 Jose (Pepe) M. Quintana   \n",
      "\n",
      "                             Universidad     Año  \\\n",
      "0              Marien Ngouabi University  2019.0   \n",
      "1  Massachusetts Institute of Technology  1972.0   \n",
      "2               University of Washington  1986.0   \n",
      "3                     Indiana University  1966.0   \n",
      "4              University of Connecticut  2007.0   \n",
      "5                University of Ljubljana  2008.0   \n",
      "6                                    NaN     NaN   \n",
      "7                  University of Warwick  1987.0   \n",
      "\n",
      "                               País  \\\n",
      "0  Democratic Republic of the Congo   \n",
      "1                      UnitedStates   \n",
      "2                      UnitedStates   \n",
      "3                      UnitedStates   \n",
      "4                      UnitedStates   \n",
      "5                          Slovenia   \n",
      "6                               NaN   \n",
      "7                     UnitedKingdom   \n",
      "\n",
      "                                              Título  \\\n",
      "0  Poisson structure on Weil bundle and generaliz...   \n",
      "1  Studies in Serial Learning and Saccadic Eye Mo...   \n",
      "2                                                NaN   \n",
      "3  Lebesgue Area and the Differential Geometry of...   \n",
      "4  On Some Bounded Risk Sequential Procedures for...   \n",
      "5  Spektralni radij integralskih operatorjev in s...   \n",
      "6                                                NaN   \n",
      "7                                                NaN   \n",
      "\n",
      "                          Tutores  \\\n",
      "0  ['Basile Guy Richard Bossoto']   \n",
      "1          ['Stephen  Grossberg']   \n",
      "2      ['Thomas Richard Fleming']   \n",
      "3           ['William P. Ziemer']   \n",
      "4         ['Nitis  Mukhopadhyay']   \n",
      "5             ['Roman  Drnovšek']   \n",
      "6                     ['Unknown']   \n",
      "7                  ['Mike  West']   \n",
      "\n",
      "                                         Estudiantes  \n",
      "0                                                 []  \n",
      "1                                                 []  \n",
      "2  ['Alonzo, Todd', 'Couper, David', 'Dodd, Lori'...  \n",
      "3                                                 []  \n",
      "4                                                 []  \n",
      "5                                                 []  \n",
      "6         ['Lauwereins, Rudy', 'Oosterlinck, Andre']  \n",
      "7                                                 []  \n"
     ]
    }
   ],
   "source": [
    "data = pd.read_csv(\"mathematicians_dataset2.csv\", sep=\";\")\n",
    "print(data)"
   ]
  },
  {
   "cell_type": "code",
   "execution_count": null,
   "metadata": {},
   "outputs": [],
   "source": []
  }
 ],
 "metadata": {
  "kernelspec": {
   "display_name": "Python 3",
   "language": "python",
   "name": "python3"
  },
  "language_info": {
   "codemirror_mode": {
    "name": "ipython",
    "version": 3
   },
   "file_extension": ".py",
   "mimetype": "text/x-python",
   "name": "python",
   "nbconvert_exporter": "python",
   "pygments_lexer": "ipython3",
   "version": "3.8.5"
  }
 },
 "nbformat": 4,
 "nbformat_minor": 4
}
