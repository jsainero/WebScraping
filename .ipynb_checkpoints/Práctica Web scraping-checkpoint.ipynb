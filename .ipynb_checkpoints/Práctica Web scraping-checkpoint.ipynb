{
 "cells": [
  {
   "cell_type": "code",
   "execution_count": 1,
   "metadata": {},
   "outputs": [
    {
     "name": "stderr",
     "output_type": "stream",
     "text": [
      "C:\\Users\\jsain\\Anaconda3\\lib\\site-packages\\numpy\\_distributor_init.py:32: UserWarning: loaded more than 1 DLL from .libs:\n",
      "C:\\Users\\jsain\\Anaconda3\\lib\\site-packages\\numpy\\.libs\\libopenblas.PYQHXLVVQ7VESDPUVUADXEVJOBGHJPAY.gfortran-win_amd64.dll\n",
      "C:\\Users\\jsain\\Anaconda3\\lib\\site-packages\\numpy\\.libs\\libopenblas.XWYDX2IKJW2NMTWSFYNGFUWKQU3LYTCZ.gfortran-win_amd64.dll\n",
      "  stacklevel=1)\n"
     ]
    }
   ],
   "source": [
    "import pandas as pd\n",
    "import numpy as np\n",
    "import os\n",
    "import csv\n",
    "from datetime import datetime\n",
    "from datetime import timedelta\n",
    "from bs4 import BeautifulSoup, NavigableString, Tag"
   ]
  },
  {
   "cell_type": "code",
   "execution_count": 2,
   "metadata": {},
   "outputs": [],
   "source": [
    "#pip install selenium"
   ]
  },
  {
   "cell_type": "code",
   "execution_count": 2,
   "metadata": {},
   "outputs": [],
   "source": [
    "from selenium import webdriver\n",
    "from selenium.webdriver.common.keys import Keys\n",
    "from selenium.webdriver.common.by import By"
   ]
  },
  {
   "cell_type": "code",
   "execution_count": 6,
   "metadata": {},
   "outputs": [],
   "source": [
    "# Ejecutando el código comentado sale una pestaña de más y un warning\n",
    "#options = webdriver.ChromeOptions()\n",
    "#options.add_argument('user-agent = Mozilla/5.0 (Windows NT 10.0; Win64; x64) AppleWebKit/537.36 (KHTML, like Gecko) Chrome/99.0.4844.84 Safari/537.36')\n",
    "#driver = webdriver.Chrome(chrome_options=options)\n",
    "#driver.get(\"https://genealogy.math.ndsu.nodak.edu/\")\n",
    "\n",
    "options_chrome = webdriver.ChromeOptions()\n",
    "#options_chrome.add_argument('--headless')\n",
    "driver = webdriver.Chrome(options = options_chrome)\n",
    "driver.get(\"https://genealogy.math.ndsu.nodak.edu/\")"
   ]
  },
  {
   "cell_type": "code",
   "execution_count": 7,
   "metadata": {},
   "outputs": [],
   "source": [
    "# Clicar para la búsqueda avanzada en \"Advanced Search\"\n",
    "advance_search = driver.find_element(By.XPATH, '//a[@href=\"search.php\"]')\n",
    "advance_search.click()"
   ]
  },
  {
   "cell_type": "code",
   "execution_count": 8,
   "metadata": {},
   "outputs": [],
   "source": [
    "subject_search = driver.find_element(By.XPATH, '//option[@value=\"62\"]')\n",
    "subject_search.click()"
   ]
  },
  {
   "cell_type": "code",
   "execution_count": 5,
   "metadata": {},
   "outputs": [],
   "source": [
    "country_search = driver.find_element(By.ID, 'country')\n",
    "country_search.send_keys(\"Spain\")"
   ]
  },
  {
   "cell_type": "code",
   "execution_count": 13,
   "metadata": {},
   "outputs": [],
   "source": [
    "entry_search = driver.find_element(By.NAME, 'submit')"
   ]
  },
  {
   "cell_type": "code",
   "execution_count": 14,
   "metadata": {},
   "outputs": [],
   "source": [
    "entry_search.click()"
   ]
  },
  {
   "cell_type": "code",
   "execution_count": 16,
   "metadata": {},
   "outputs": [],
   "source": [
    "# Clicar para la búsqueda avanzada en \"Advanced Search\"\n",
    "advance_search = driver.find_element(By.XPATH, '//a[@href=\"search.php\"]')\n",
    "advance_search.click()\n",
    "\n",
    "# Rellenar los campos necesarios y hacer enter\n",
    "#given_name_search = driver.find_element(By.ID, 'given_name')\n",
    "#given_name_search.send_keys(\"Ma\")\n",
    "\n",
    "subject_search = driver.find_element(By.XPATH, '//option[@value=\"62\"]')\n",
    "subject_search.click()\n",
    "\n",
    "country_search = driver.find_element(By.ID, 'country')\n",
    "country_search.send_keys(\"Spain\" + Keys.ENTER)"
   ]
  },
  {
   "cell_type": "code",
   "execution_count": 17,
   "metadata": {},
   "outputs": [],
   "source": [
    "#cargamos el contenido (ya se podría cerrar la pestaña)\n",
    "soup = BeautifulSoup(driver.page_source)"
   ]
  },
  {
   "cell_type": "code",
   "execution_count": 18,
   "metadata": {},
   "outputs": [],
   "source": [
    "main_content = soup.find(id='mainContent').table\n",
    "authors_searched = main_content.find_all('tr')\n",
    "#print(authors_searched)"
   ]
  },
  {
   "cell_type": "code",
   "execution_count": 19,
   "metadata": {},
   "outputs": [],
   "source": [
    "import re\n",
    "\n",
    "# función que dada una lista de autores extraída de la búsqueda devuelve sus ids\n",
    "# para luego hacer peticiones con cada id a https://genealogy.math.ndsu.nodak.edu/id.php?id=<id>\n",
    "# y de ahí extraer la info\n",
    "def authors_ids(authors_searched):\n",
    "    ids = []\n",
    "    for author in authors_searched:\n",
    "        link = author.find('a').get('href')\n",
    "        id = re.search('id=(.*)', link).group(1)\n",
    "        ids.append(id)\n",
    "    return ids"
   ]
  },
  {
   "cell_type": "code",
   "execution_count": 20,
   "metadata": {},
   "outputs": [
    {
     "name": "stdout",
     "output_type": "stream",
     "text": [
      "['213317', '271091', '254991', '136049', '210659', '213334', '185090', '122530', '104516', '255157', '210634', '210489', '276172', '84140', '265694', '210662', '133048', '36522', '210618', '210494', '163491', '210495', '156619', '268419', '163489', '210491', '198942', '104905', '87818', '105274', '139989', '218571', '213324', '210503', '95694', '183227', '253341', '204190', '213318', '272027', '129437', '171756', '210498', '246747', '246747', '246747', '105624', '204860', '210638', '210017', '215461', '170828', '210652', '215454', '35146', '198943', '254763', '213325', '37270', '168374', '236778', '213335', '180511', '114835', '213349', '276170', '150826', '108099', '219758', '210649', '162402', '150830', '210661', '112245', '210493', '86969', '210488', '163487', '210654', '163488', '137908', '210616', '210497', '181906', '210632', '64895', '228111', '254990', '84571', '186876', '210655', '210502', '133047', '179363', '210533', '279075', '202122', '209163', '186170', '210658', '213356', '186169', '210500', '86966', '189803', '261729', '209197', '84496', '186168', '210648', '87053', '228022', '150827', '137907', '150829', '95646', '210018', '217673', '210660', '126959', '232849', '232849', '215458', '210534', '118327', '86967', '170360', '191221', '213363', '163490', '186878', '210492', '108167', '86968', '210496', '215460', '159752', '153481', '170829', '225029', '117839', '170359', '219757', '268988', '170413', '210021', '186171', '210490', '183957', '153483', '239063', '84544', '135765', '183292', '153482', '213372', '253364', '150828', '210656', '126923', '253346', '194816', '210641']\n"
     ]
    }
   ],
   "source": [
    "print(authors_ids(authors_searched))"
   ]
  },
  {
   "cell_type": "code",
   "execution_count": 21,
   "metadata": {},
   "outputs": [],
   "source": [
    "def authors_information(authors_id):\n",
    "    \"\"\"\n",
    "    Realiza web scraping en las pestañas de los autores\n",
    "    con id en 'authors_id'.\n",
    "    \n",
    "    Para cada id se scrapea la página de ese autor. Mediante las\n",
    "    funciones principales de BeautifulSoup y las expresiones\n",
    "    regulares, se van guardando, en este orden: nombre, universidad,\n",
    "    año, pais, titulo, tutores y estudiantes.\n",
    "    Finalmente, se crea una lista con los valores de estos campos y\n",
    "    se añade a la lista 'information'.\n",
    "    \n",
    "    Parámetros:\n",
    "        authors_id: lista de los ids de los autores obtenidos según\n",
    "        la búsqueda\n",
    "\n",
    "    Devuelve:\n",
    "        information: lista anidada, en cada una la información de un autor/a.\n",
    "    \"\"\"\n",
    "    #information = [] #Para CSV\n",
    "    data = {}\n",
    "    data['Mathematicians'] = []\n",
    "    for identificador in authors_id:\n",
    "        # LECTURA DE LA PÁGINA\n",
    "        urls = driver.get(\"https://genealogy.math.ndsu.nodak.edu/id.php?id=\"+identificador)\n",
    "        soup = BeautifulSoup(driver.page_source)\n",
    "\n",
    "        # WEB SCRAPING\n",
    "        main_content2 = soup.find(id='mainContent')\n",
    "        \n",
    "        # Nombre autor/autora\n",
    "        nombre = main_content2.find('h2').get_text().strip() #strip() elimina los espacios en blanco al inicio y al final\n",
    "        \n",
    "        # Universidad\n",
    "        universidad = main_content2.find_next('span').find_next('span').get_text()\n",
    "        \n",
    "        # Año de publicación de la tesis\n",
    "        año = main_content2.find('span').get_text()\n",
    "        año = ''.join(re.findall(r\"\\d{4}$\", año))\n",
    "        \n",
    "        # País\n",
    "        if main_content2.find('img'):\n",
    "            pais = main_content2.find('img').get('title')\n",
    "        else:\n",
    "            pais = ''\n",
    "            \n",
    "        for div in range(0, len(main_content2.find_all('div'))):\n",
    "            # Título de la tesis\n",
    "            if div==3:\n",
    "                # PRIMERA OPCIÓN\n",
    "                #titulo = main_content2.find_all('div')[div].find_next('span').find_next('span').get_text().strip()\n",
    "                # SEGUNDA OPCIÓN\n",
    "                titulo = ''.join([i if type(i)==NavigableString else '' for i in main_content2.find_all('div')[3].contents[2].contents]).strip()\n",
    "            # Asignatura\n",
    "            if div == 4:\n",
    "                try:\n",
    "                    asignatura = main_content2.find_all('div')[div].get_text().split(r\":\", 1)[1].strip()\n",
    "                except:\n",
    "                    asignatura=''\n",
    "\n",
    "        # Tutor/Tutores\n",
    "        \n",
    "        advisor_text = re.search(r'Advisor.*',main_content2.get_text())\n",
    "        if advisor_text is not None:\n",
    "            advisor_text = advisor_text.group(0)\n",
    "            advisors_pre = re.split(r\"No students known.\", advisor_text)[0]\n",
    "            advisors = re.split(r\"Advisor: |Advisor \\d: \",advisors_pre)[1:]\n",
    "        else:\n",
    "            advisors =[]\n",
    "\n",
    "        # Estudiantes\n",
    "        students = []\n",
    "        if main_content2.table != None:\n",
    "            students_searched = main_content2.table.find_all('a')\n",
    "            for stud in students_searched:\n",
    "                students.append(stud.get_text())\n",
    "\n",
    "        # Para CSV\n",
    "        #elemento = [nombre, universidad, año, pais, titulo, asignatura, advisors, students]\n",
    "        #information.append(elemento)\n",
    "        \n",
    "        # Para JSON\n",
    "        data['Mathematicians'].append({\n",
    "            'Nombre': nombre,\n",
    "            'Universidad': universidad,\n",
    "            'Año': año,\n",
    "            'País': pais,\n",
    "            'Título': titulo,\n",
    "            'Asignatura': asignatura,\n",
    "            'Tutores': advisors,\n",
    "            'Estudiantes': students\n",
    "        })\n",
    "    return data"
   ]
  },
  {
   "cell_type": "code",
   "execution_count": 22,
   "metadata": {},
   "outputs": [
    {
     "data": {
      "text/plain": [
       "163"
      ]
     },
     "execution_count": 22,
     "metadata": {},
     "output_type": "execute_result"
    }
   ],
   "source": [
    "len(authors_searched)"
   ]
  },
  {
   "cell_type": "code",
   "execution_count": 23,
   "metadata": {},
   "outputs": [
    {
     "data": {
      "text/plain": [
       "{'Mathematicians': [{'Nombre': 'María del Carmen  Aguilera Morillo',\n",
       "   'Universidad': 'Universidad de Granada',\n",
       "   'Año': '2013',\n",
       "   'País': 'Spain',\n",
       "   'Título': 'Penalized estimation methods in functional data analysis',\n",
       "   'Asignatura': '62—Statistics',\n",
       "   'Tutores': ['Ana María Aguilera del Pino'],\n",
       "   'Estudiantes': []},\n",
       "  {'Nombre': 'Martín  Almuzara',\n",
       "   'Universidad': 'Universidad Internacional Menéndez Pelayo',\n",
       "   'Año': '2020',\n",
       "   'País': 'Spain',\n",
       "   'Título': 'Essays on Latent Variables in Time Series and Panel Data',\n",
       "   'Asignatura': '62—Statistics',\n",
       "   'Tutores': ['Manuel  Arellano', 'Enrique  Sentana'],\n",
       "   'Estudiantes': []},\n",
       "  {'Nombre': 'Juana María Alonso Revenga',\n",
       "   'Universidad': 'Universidad Complutense de Madrid',\n",
       "   'Año': '2017',\n",
       "   'País': 'Spain',\n",
       "   'Título': 'Análisis inferencial basado en medidas de fi-divergencia para modelos loglineales con muestreo multinomial y sobredispersión',\n",
       "   'Asignatura': '62—Statistics',\n",
       "   'Tutores': ['Nirian  Martin', 'Leandro  Pardo'],\n",
       "   'Estudiantes': []},\n",
       "  {'Nombre': 'Pedro  Alvarez-Esteban',\n",
       "   'Universidad': 'Universidad de Valladolid',\n",
       "   'Año': '2009',\n",
       "   'País': 'Spain',\n",
       "   'Título': 'Aplicaciones de los recortes imparciales en la comparación de distribuciones',\n",
       "   'Asignatura': '62—Statistics',\n",
       "   'Tutores': ['Eustasio  del Barrio', 'Juan Antonio  Cuesta Albertos'],\n",
       "   'Estudiantes': []},\n",
       "  {'Nombre': 'Mercedes  Alvargonzález-Rodríguez',\n",
       "   'Universidad': 'Universidad de Oviedo',\n",
       "   'Año': '2003',\n",
       "   'País': 'Spain',\n",
       "   'Título': 'Medidas doble cuadráticas de información. Algunas aplicaciones económicas',\n",
       "   'Asignatura': '62—Statistics',\n",
       "   'Tutores': ['Rigoberto  Pérez', 'Ana J. López-Menéndez'],\n",
       "   'Estudiantes': []},\n",
       "  {'Nombre': 'Said  Aouaray',\n",
       "   'Universidad': 'Universidad de Granada',\n",
       "   'Año': '2000',\n",
       "   'País': 'Spain',\n",
       "   'Título': 'Aportaciones a la modelización por procesos de difusión en Neurología',\n",
       "   'Asignatura': '62—Statistics',\n",
       "   'Tutores': ['Ramón  Gutiérrez Jáimez'],\n",
       "   'Estudiantes': []},\n",
       "  {'Nombre': 'Concepcion  Ausin',\n",
       "   'Universidad': 'Universidad Carlos III de Madrid',\n",
       "   'Año': '2003',\n",
       "   'País': 'Spain',\n",
       "   'Título': 'Inferencia bayesiana para colas (Bayesian inference for queueing systems)',\n",
       "   'Asignatura': '62—Statistics',\n",
       "   'Tutores': ['Michael Peter Wiper', 'Rosa Elvira Lillo'],\n",
       "   'Estudiantes': ['Gómez, Mario']},\n",
       "  {'Nombre': 'Amparo  Baíllo',\n",
       "   'Universidad': 'Universidad Autónoma de Madrid',\n",
       "   'Año': '2000',\n",
       "   'País': 'Spain',\n",
       "   'Título': 'Nonparametric Estimation of Density Level Sets. Some Applications',\n",
       "   'Asignatura': '62—Statistics',\n",
       "   'Tutores': ['Antonio  Cuevas'],\n",
       "   'Estudiantes': []},\n",
       "  {'Nombre': 'Jorge Hugo Barrientos Marin',\n",
       "   'Universidad': 'Universidad de Alicante',\n",
       "   'Año': '2007',\n",
       "   'País': 'Spain',\n",
       "   'Título': 'Some Practical Problems of Recent Nonparametric Procedures: Testing, Estimation, and Application.',\n",
       "   'Asignatura': '62—Statistics',\n",
       "   'Tutores': ['Stefan  Sperlich', 'Frédéric  Ferraty'],\n",
       "   'Estudiantes': []},\n",
       "  {'Nombre': 'Anna Espina Berenguer',\n",
       "   'Universidad': 'Universitat Pompeu Fabra',\n",
       "   'Año': '2001',\n",
       "   'País': 'Spain',\n",
       "   'Título': 'Statistical and empirical issues in the analysis of duration data',\n",
       "   'Asignatura': '62—Statistics',\n",
       "   'Tutores': ['Albert  Satorra Brucart'],\n",
       "   'Estudiantes': []},\n",
       "  {'Nombre': 'Ángela  Blanco-Fernández',\n",
       "   'Universidad': 'Universidad de Oviedo',\n",
       "   'Año': '2009',\n",
       "   'País': 'Spain',\n",
       "   'Título': 'Análisis estadístico de un nuevo modelo de regresión lineal flexible para intervalos aleatorios',\n",
       "   'Asignatura': '62—Statistics',\n",
       "   'Tutores': ['Gil  González-Rodríguez', 'Norberto  Corral', 'Ana  Colubi'],\n",
       "   'Estudiantes': []},\n",
       "  {'Nombre': 'Teófilo  Brezmes',\n",
       "   'Universidad': 'Universidad de Oviedo',\n",
       "   'Año': '1980',\n",
       "   'País': 'Spain',\n",
       "   'Título': 'Generalización de las medidas de información condicionada de experiencias',\n",
       "   'Asignatura': '62—Statistics',\n",
       "   'Tutores': ['Pedro  Gil'],\n",
       "   'Estudiantes': ['Naval, Gloria']},\n",
       "  {'Nombre': 'Alvaro  Briz',\n",
       "   'Universidad': 'Universitat de València',\n",
       "   'Año': '2020',\n",
       "   'País': 'Spain',\n",
       "   'Título': 'Spatio-temporal methods for the analysis of crime and traffic safety data',\n",
       "   'Asignatura': '62—Statistics',\n",
       "   'Tutores': ['Francisco  Montes Suay'],\n",
       "   'Estudiantes': []},\n",
       "  {'Nombre': 'Rafael  Bru',\n",
       "   'Universidad': 'Universitat Politècnica de València',\n",
       "   'Año': '1980',\n",
       "   'País': 'Spain',\n",
       "   'Título': 'Modelización de Unidades Agrarias con Análisis Multidimensional',\n",
       "   'Asignatura': '62—Statistics',\n",
       "   'Tutores': ['Lucinio  Judez'],\n",
       "   'Estudiantes': ['Cantó, Rafael',\n",
       "    'Cerdán, Juana',\n",
       "    'Climent, Joan-Josep',\n",
       "    'Coll, P. Carmen',\n",
       "    'Contreras Espinosa, Wilson',\n",
       "    'Corral, Cristina',\n",
       "    'Marín, José',\n",
       "    'Migallón, Violeta',\n",
       "    'Paraîba, Lourival',\n",
       "    'Romero, Sergio',\n",
       "    'Sánchez, Elena',\n",
       "    'Santana, Maximo',\n",
       "    'Thome, Néstor']},\n",
       "  {'Nombre': 'Ismael  Cabero',\n",
       "   'Universidad': 'Universitat Jaume I de Castellón',\n",
       "   'Año': '2019',\n",
       "   'País': 'Spain',\n",
       "   'Título': 'Some contributions to archetypal analysis with applications',\n",
       "   'Asignatura': '62—Statistics',\n",
       "   'Tutores': ['Irene  Epifanio'],\n",
       "   'Estudiantes': []},\n",
       "  {'Nombre': 'Laura  Cabiedes Miragaya',\n",
       "   'Universidad': 'Universidad de Oviedo',\n",
       "   'Año': '1993',\n",
       "   'País': 'Spain',\n",
       "   'Título': 'Estructura industrial, intervención estatal y barreras técnicas a las transacciones comerciales. Una aplicación a la industria farmacéutica',\n",
       "   'Asignatura': '62—Statistics',\n",
       "   'Tutores': ['Rigoberto  Pérez'],\n",
       "   'Estudiantes': ['Oltra-Rodríguez, Enrique', 'Zapico-García, Isabel']},\n",
       "  {'Nombre': 'Ricardo  Cao Abad',\n",
       "   'Universidad': 'Universidade de Santiago de Compostela',\n",
       "   'Año': '1990',\n",
       "   'País': 'Spain',\n",
       "   'Título': 'Applications and New Results of the Bootstrap Method in Nonparametric Curve Estimation',\n",
       "   'Asignatura': '62—Statistics',\n",
       "   'Tutores': ['Wenceslao  Gonzalez-Manteiga'],\n",
       "   'Estudiantes': ['Molanes López, Elisa']},\n",
       "  {'Nombre': 'Ricardo  Cao Abad',\n",
       "   'Universidad': 'Universidade de Santiago de Compostela',\n",
       "   'Año': '1990',\n",
       "   'País': 'Spain',\n",
       "   'Título': 'Applications and New Results of the Bootstrap Method in Nonparametric Curve Estimation',\n",
       "   'Asignatura': '62—Statistics',\n",
       "   'Tutores': ['Wenceslao  Gonzalez-Manteiga'],\n",
       "   'Estudiantes': ['Jácome Pumar, María',\n",
       "    'López de Ullibarri Galparsoro, Ignacio',\n",
       "    'Naya Fernández, Salvador',\n",
       "    'Rodréguez Campos, Celia',\n",
       "    'Saavedra González, Ángeles']},\n",
       "  {'Nombre': 'Carlos  Carleos',\n",
       "   'Universidad': 'Universidad de Oviedo',\n",
       "   'Año': '2005',\n",
       "   'País': 'Spain',\n",
       "   'Título': 'Métodos estadísticos para el análisis de ligamento genético mediante pools de ADN',\n",
       "   'Asignatura': '62—Statistics',\n",
       "   'Tutores': ['Norberto  Corral', 'Javier  Cañón', 'María Asunción  Lubiano'],\n",
       "   'Estudiantes': ['Shatla, Ahmed']},\n",
       "  {'Nombre': 'María Rosa  Casals',\n",
       "   'Universidad': 'Universidad de Cantabria',\n",
       "   'Año': '1988',\n",
       "   'País': 'Spain',\n",
       "   'Título': 'Contraste de hipótesis en ambiente difuso',\n",
       "   'Asignatura': '62—Statistics',\n",
       "   'Tutores': ['Pedro  Gil', 'María Ángeles  Gil'],\n",
       "   'Estudiantes': ['Montenegro, Manuel']}]}"
      ]
     },
     "execution_count": 23,
     "metadata": {},
     "output_type": "execute_result"
    }
   ],
   "source": [
    "info = authors_information(authors_ids(authors_searched[:20]))\n",
    "info"
   ]
  },
  {
   "cell_type": "code",
   "execution_count": 26,
   "metadata": {},
   "outputs": [],
   "source": [
    "# GUARDAR LOS DATOS EN JSON\n",
    "import json\n",
    "with open('mathematicians_dataset.json', 'w') as file:\n",
    "    json.dump(info, file, indent=4)"
   ]
  },
  {
   "cell_type": "code",
   "execution_count": 27,
   "metadata": {},
   "outputs": [
    {
     "name": "stdout",
     "output_type": "stream",
     "text": [
      "{'Mathematicians': [{'Nombre': 'María del Carmen  Aguilera Morillo', 'Universidad': 'Universidad de Granada', 'Año': '2013', 'País': 'Spain', 'Título': 'Penalized estimation methods in functional data analysis', 'Asignatura': '62—Statistics', 'Tutores': ['Ana María Aguilera del Pino'], 'Estudiantes': []}, {'Nombre': 'Martín  Almuzara', 'Universidad': 'Universidad Internacional Menéndez Pelayo', 'Año': '2020', 'País': 'Spain', 'Título': 'Essays on Latent Variables in Time Series and Panel Data', 'Asignatura': '62—Statistics', 'Tutores': ['Manuel  Arellano', 'Enrique  Sentana'], 'Estudiantes': []}, {'Nombre': 'Ismael  Cabero', 'Universidad': 'Universitat Jaume I de Castellón', 'Año': '2019', 'País': 'Spain', 'Título': 'Some contributions to archetypal analysis with applications', 'Asignatura': '62—Statistics', 'Tutores': ['Irene  Epifanio'], 'Estudiantes': []}, {'Nombre': 'María Rosa  Casals', 'Universidad': 'Universidad de Cantabria', 'Año': '1988', 'País': 'Spain', 'Título': 'Contraste de hipótesis en ambiente difuso', 'Asignatura': '62—Statistics', 'Tutores': ['Pedro  Gil', 'María Ángeles  Gil'], 'Estudiantes': ['Montenegro, Manuel']}, {'Nombre': 'Matteo  Ciccarelli', 'Universidad': 'Universitat Pompeu Fabra', 'Año': '2001', 'País': 'Spain', 'Título': 'Bayesian inference in heterogeneous dynamic panel data models : three essays', 'Asignatura': '62—Statistics', 'Tutores': ['Fabio  Canova'], 'Estudiantes': []}, {'Nombre': 'María José  Del Moral Ávila', 'Universidad': 'Universidad de Granada', 'Año': '1993', 'País': 'Spain', 'Título': 'Reducción de dimensión mediante ACP: Enfoques alternativos', 'Asignatura': '62—Statistics', 'Tutores': ['Mariano José  Valderrama Bonnet'], 'Estudiantes': []}, {'Nombre': 'Manuel Angel  Dominguez-Toribio', 'Universidad': 'Universidad Carlos III de Madrid', 'Año': '1998', 'País': 'Spain', 'Título': 'Contrastes de especificación consistentes de modelos econométricos', 'Asignatura': '62—Statistics', 'Tutores': ['Miguel Angel Delgado'], 'Estudiantes': []}, {'Nombre': 'Manuel  Escabias Machuca', 'Universidad': 'Universidad de Granada', 'Año': '2002', 'País': 'Spain', 'Título': 'Reducción de dimensión en regresión logística funcional', 'Asignatura': '62—Statistics', 'Tutores': ['Ana María Aguilera del Pino'], 'Estudiantes': []}, {'Nombre': 'Manuel  Febrero-Bande', 'Universidad': 'Universidade de Santiago de Compostela', 'Año': '1995', 'País': 'Spain', 'Título': 'Modelización para la predicción en series de tiempo: Aspectos computacionales con nuevas aportaciones y aplicaciones', 'Asignatura': '62—Statistics', 'Tutores': ['Wenceslao  Gonzalez-Manteiga'], 'Estudiantes': []}, {'Nombre': 'Manuel J. Fernández', 'Universidad': 'Universidad de Oviedo', 'Año': '1991', 'País': 'Spain', 'Título': 'Contribuciones al estudio de ecuaciones en relaciones difusas', 'Asignatura': '62—Statistics', 'Tutores': ['Pedro  Gil', 'Fermín  Suárez'], 'Estudiantes': []}, {'Nombre': 'Marta  García-Bárzana', 'Universidad': 'Universidad de Oviedo', 'Año': '2016', 'País': 'Spain', 'Título': 'Estimación de modelos de regresión lineales múltiples con restricciones aleatorias lineales', 'Asignatura': '62—Statistics', 'Tutores': ['Ana  Colubi', 'Erricos John Kontoghiorghes'], 'Estudiantes': []}, {'Nombre': 'María Antonieta  Gayoso', 'Universidad': 'Universidad de Oviedo', 'Año': '2016', 'País': 'Spain', 'Título': 'Prescripción diferenciada a hombres y mujeres, ¿una cuestión de género?', 'Asignatura': '62—Statistics', 'Tutores': ['Agustín  Hidalgo-Balsera', 'Norberto  Corral'], 'Estudiantes': []}, {'Nombre': 'María Ángeles  Gil', 'Universidad': 'Universidad de Oviedo', 'Año': '1979', 'País': 'Spain', 'Título': 'Incertidumbre y utilidad', 'Asignatura': '62—Statistics', 'Tutores': ['Pedro  Gil'], 'Estudiantes': ['Casals, María Rosa', 'Cascos-Fernández, Ignacio', 'Caso, Covadonga', 'Colubi, Ana', 'Corral, Norberto', 'de la Rosa de Sáa, Sara', 'López-Díaz, Miguel', 'López-García, Hortensia', 'Lubiano, María Asunción', 'Martínez, Ignacio', 'Montenegro, Manuel', 'Pérez, Rigoberto', 'Ramos-Guajardo, Ana Belén', 'Rodríguez-Muñiz, Luis José', 'Sinova, Beatriz']}, {'Nombre': 'Mario  Gómez', 'Universidad': 'Universidad Carlos III de Madrid', 'Año': '2017', 'País': 'Spain', 'Título': 'Bayesian prediction of glacial discharge in Antarctica using copulas', 'Asignatura': '62—Statistics', 'Tutores': ['Concepcion  Ausin', 'Carmen  Dominguez'], 'Estudiantes': []}, {'Nombre': 'María Dolores  Huete Morales', 'Universidad': 'Universidad de Granada', 'Año': '2006', 'País': 'Spain', 'Título': 'El modelo estocástico de Gompertz. Modelización de datos sociodemográﬁcos', 'Asignatura': '62—Statistics', 'Tutores': ['Ramón  Gutiérrez Jáimez', 'Francisco  Abad Montes'], 'Estudiantes': []}, {'Nombre': 'Rosa María  Inga Santiváñez', 'Universidad': 'Universidad Complutense de Madrid', 'Año': '1992', 'País': 'Spain', 'Título': 'El criterio de información de Akaike en el análisis de datos categorizados', 'Asignatura': '62—Statistics', 'Tutores': ['Leandro  Pardo', 'Domingo  Morales'], 'Estudiantes': []}, {'Nombre': 'María Amalia Jácome Pumar', 'Universidad': 'Universidade da Coruña', 'Año': '2005', 'País': 'Spain', 'Título': 'Presmoothed Distribution and Density Estimation with Censored Data', 'Asignatura': '62—Statistics', 'Tutores': ['Ricardo  Cao Abad'], 'Estudiantes': []}, {'Nombre': 'Manuel  Landajo', 'Universidad': 'Universidad de Oviedo', 'Año': '1999', 'País': 'Spain', 'Título': 'Modelos neuroborrosos para la predicción económica', 'Asignatura': '62—Statistics', 'Tutores': ['Rigoberto  Pérez'], 'Estudiantes': ['Fernández-González, Paula']}, {'Nombre': 'María Teresa  López', 'Universidad': 'Universidad de Cantabria', 'Año': '1987', 'País': 'Spain', 'Título': 'Algunos problemas estadísticos con información difusa', 'Asignatura': '62—Statistics', 'Tutores': ['Pedro  Gil'], 'Estudiantes': ['Lubiano, María Asunción']}, {'Nombre': 'María Asunción  Lubiano', 'Universidad': 'Universidad de Oviedo', 'Año': '1999', 'País': 'Spain', 'Título': 'Medidas de variación para elementos aleatorios imprecisos', 'Asignatura': '62—Statistics', 'Tutores': ['María Ángeles  Gil', 'Miguel  López-Díaz', 'María Teresa  López'], 'Estudiantes': ['Carleos, Carlos', 'de la Rosa de Sáa, Sara']}, {'Nombre': 'Josep Maria  Mateo-Sanz', 'Universidad': 'Universidad de Barcelona', 'Año': '1998', 'País': 'Spain', 'Título': 'Contribucions al Control de la Revelacio Estadistica per a Macrodades i per a Microdades', 'Asignatura': '62—Statistics', 'Tutores': ['Josep  Domingo-Ferrer'], 'Estudiantes': ['Solanas, Agusti', 'Torres Aragó, Àngel']}, {'Nombre': 'Matías  Mayor Fernández', 'Universidad': 'Universidad de Oviedo', 'Año': '2007', 'País': 'Spain', 'Título': 'Crecimiento regional y efecto competitivo modelización econométrica y predicción', 'Asignatura': '62—Statistics', 'Tutores': ['Rigoberto  Pérez', 'Ana J. López-Menéndez'], 'Estudiantes': ['González-Arbués, Pelayo']}, {'Nombre': 'Manuel  Montenegro', 'Universidad': 'Universidad de Oviedo', 'Año': '2003', 'País': 'Spain', 'Título': 'Estadística con datos imprecisos basada en una métrica generalizada', 'Asignatura': '62—Statistics', 'Tutores': ['María Ángeles  Gil', 'María Rosa  Casals', 'Ana  Colubi'], 'Estudiantes': []}, {'Nombre': 'Maria del Carmen  Pardo', 'Universidad': 'Universidad Complutense de Madrid', 'Año': '1996', 'País': 'Spain', 'Título': 'Estimadores de mínima divergencia de Rao: comportamiento asintótico y aplicación a contrastes de hipótesis', 'Asignatura': '62—Statistics', 'Tutores': ['Leandro  Pardo'], 'Estudiantes': []}, {'Nombre': 'María José  Presno', 'Universidad': 'Universidad de Oviedo', 'Año': '2001', 'País': 'Spain', 'Título': 'Análisis de estacionariedad y ruptura estructural. Un estudio asintótico y de simulación', 'Asignatura': '62—Statistics', 'Tutores': ['Rigoberto  Pérez', 'Ana J. López-Menéndez'], 'Estudiantes': ['Fernández-González, Paula']}, {'Nombre': 'María Victoría  Rodríguez Uría', 'Universidad': 'Universidad de Cantabria', 'Año': '1987', 'País': 'Spain', 'Título': 'Algunas cuestiones en teoría de la codificación', 'Asignatura': '62—Statistics', 'Tutores': ['Pedro  Gil'], 'Estudiantes': ['Antomil-Ibias, José', 'Arenas-Parra, Mar', 'Pérez-Gladish, Blanca']}, {'Nombre': 'Paloma  Sanz', 'Universidad': 'Universidad Complutense de Madrid', 'Año': '1988', 'País': 'Spain', 'Título': 'Algunas aportaciones a la teoría de la robustez en inferencia estadística', 'Asignatura': '62—Statistics', 'Tutores': ['Antonio  Cuevas'], 'Estudiantes': []}, {'Nombre': 'Inma  Tur', 'Universidad': 'Universitat Pompeu Fabra', 'Año': '2014', 'País': 'Spain', 'Título': 'Mapping eQTL networks with mixed graphical models', 'Asignatura': '62—Statistics', 'Tutores': ['Robert  Castelo'], 'Estudiantes': []}, {'Nombre': 'María Dolores Berrade Ursúa', 'Universidad': 'Universidad de Zaragoza', 'Año': '1999', 'País': 'Spain', 'Título': 'Técnicas Estadísticas en Fiabilidad: Propiedades de Edad Bajo Mixturas y Mantenimiento Óptimo de Sistemas', 'Asignatura': '62—Statistics', 'Tutores': ['Clemente A. Campos y Sáez'], 'Estudiantes': []}, {'Nombre': 'Maria Lina  Vicente', 'Universidad': 'Universidad Complutense de Madrid', 'Año': '1990', 'País': 'Spain', 'Título': 'Aplicaciones estadísticas de la entropía no aditiva de grado beta de Havrda y Charvat', 'Asignatura': '62—Statistics', 'Tutores': ['Leandro  Pardo'], 'Estudiantes': []}, {'Nombre': 'María Rosalía  Vicente Cuervo', 'Universidad': 'Universidad de Oviedo', 'Año': '2007', 'País': 'Spain', 'Título': 'Métrica e indicadores de la sociedad de la información. Una aproximación a la difusión de la TIC y a la brecha digital', 'Asignatura': '62—Statistics', 'Tutores': ['Rigoberto  Pérez', 'Ana J. López-Menéndez'], 'Estudiantes': []}, {'Nombre': 'María del Pilar  Zuluaga', 'Universidad': 'Universidad Complutense de Madrid', 'Año': '1986', 'País': 'Spain', 'Título': 'Medidas de información en discriminación cualitativa', 'Asignatura': '62—Statistics', 'Tutores': ['Pilar  García-Carrasco'], 'Estudiantes': []}]}\n"
     ]
    }
   ],
   "source": [
    "with open(\"mathematicians_dataset.json\", \"r\") as j:\n",
    "    mydata = json.load(j)\n",
    "    print(mydata)"
   ]
  },
  {
   "cell_type": "code",
   "execution_count": 13,
   "metadata": {},
   "outputs": [],
   "source": [
    "# GUARDAR LOS DATOS EN CSV\n",
    "import csv\n",
    "headers = ['Nombre', 'Universidad', 'Año', 'País', 'Título', 'Asignatura', 'Tutores', 'Estudiantes']\n",
    "\n",
    "# OPCIÓN 1 CSV\n",
    "with open('mathematicians_dataset.csv', 'w', encoding='UTF8', newline='') as csvfile:\n",
    "    for column in range(len(headers)):\n",
    "        csvfile.write((headers[column]) + \";\")\n",
    "    csvfile.write(\"\\n\");\n",
    "    for i in range(len(info)):\n",
    "        for j in range(len(info[i])):\n",
    "            csvfile.write(str(info[i][j]) + \";\");\n",
    "        csvfile.write(\"\\n\");"
   ]
  },
  {
   "cell_type": "code",
   "execution_count": 14,
   "metadata": {},
   "outputs": [],
   "source": [
    "# OPCIÓN 2 CSV (Las dos opciones salen iguales)\n",
    "with open('mathematicians_dataset2.csv', 'w', encoding='UTF8', newline='') as file:\n",
    "    writer = csv.writer(file, delimiter=';')\n",
    "    writer.writerow(headers)\n",
    "    writer.writerows(info)"
   ]
  },
  {
   "cell_type": "code",
   "execution_count": 15,
   "metadata": {},
   "outputs": [
    {
     "name": "stdout",
     "output_type": "stream",
     "text": [
      "                                   Nombre  \\\n",
      "0  Apépé Jugeandène  Nguengue Louvouandou   \n",
      "1                           James T. Pepe   \n",
      "2                  Margaret Sullivan Pepe   \n",
      "3                     Wilfrid Dennis Pepe   \n",
      "4                           William  Pepe   \n",
      "5                         Aljoša  Peperko   \n",
      "6                     Jan A. Peperstraete   \n",
      "7                 Jose (Pepe) M. Quintana   \n",
      "\n",
      "                             Universidad     Año  \\\n",
      "0              Marien Ngouabi University  2019.0   \n",
      "1  Massachusetts Institute of Technology  1972.0   \n",
      "2               University of Washington  1986.0   \n",
      "3                     Indiana University  1966.0   \n",
      "4              University of Connecticut  2007.0   \n",
      "5                University of Ljubljana  2008.0   \n",
      "6                                    NaN     NaN   \n",
      "7                  University of Warwick  1987.0   \n",
      "\n",
      "                               País  \\\n",
      "0  Democratic Republic of the Congo   \n",
      "1                      UnitedStates   \n",
      "2                      UnitedStates   \n",
      "3                      UnitedStates   \n",
      "4                      UnitedStates   \n",
      "5                          Slovenia   \n",
      "6                               NaN   \n",
      "7                     UnitedKingdom   \n",
      "\n",
      "                                              Título  \\\n",
      "0  Poisson structure on Weil bundle and generaliz...   \n",
      "1  Studies in Serial Learning and Saccadic Eye Mo...   \n",
      "2                                                NaN   \n",
      "3  Lebesgue Area and the Differential Geometry of...   \n",
      "4  On Some Bounded Risk Sequential Procedures for...   \n",
      "5  Spektralni radij integralskih operatorjev in s...   \n",
      "6                                                NaN   \n",
      "7                                                NaN   \n",
      "\n",
      "                                  Asignatura                         Tutores  \\\n",
      "0  58—Global analysis, analysis on manifolds  ['Basile Guy Richard Bossoto']   \n",
      "1                                        NaN          ['Stephen  Grossberg']   \n",
      "2                                        NaN      ['Thomas Richard Fleming']   \n",
      "3                                        NaN           ['William P. Ziemer']   \n",
      "4                              62—Statistics         ['Nitis  Mukhopadhyay']   \n",
      "5                         47—Operator theory             ['Roman  Drnovšek']   \n",
      "6                                        NaN                     ['Unknown']   \n",
      "7                              62—Statistics                  ['Mike  West']   \n",
      "\n",
      "                                         Estudiantes  \n",
      "0                                                 []  \n",
      "1                                                 []  \n",
      "2  ['Alonzo, Todd', 'Couper, David', 'Dodd, Lori'...  \n",
      "3                                                 []  \n",
      "4                                                 []  \n",
      "5                                                 []  \n",
      "6         ['Lauwereins, Rudy', 'Oosterlinck, Andre']  \n",
      "7                                                 []  \n"
     ]
    }
   ],
   "source": [
    "data = pd.read_csv(\"mathematicians_dataset2.csv\", sep=\";\")\n",
    "print(data)"
   ]
  },
  {
   "cell_type": "code",
   "execution_count": null,
   "metadata": {},
   "outputs": [],
   "source": []
  }
 ],
 "metadata": {
  "kernelspec": {
   "display_name": "Python 3",
   "language": "python",
   "name": "python3"
  },
  "language_info": {
   "codemirror_mode": {
    "name": "ipython",
    "version": 3
   },
   "file_extension": ".py",
   "mimetype": "text/x-python",
   "name": "python",
   "nbconvert_exporter": "python",
   "pygments_lexer": "ipython3",
   "version": "3.7.3"
  }
 },
 "nbformat": 4,
 "nbformat_minor": 4
}
