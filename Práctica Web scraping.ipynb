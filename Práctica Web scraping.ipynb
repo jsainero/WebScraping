{
 "cells": [
  {
   "cell_type": "markdown",
   "metadata": {},
   "source": [
    "# 0 Librerías necesarias"
   ]
  },
  {
   "cell_type": "code",
   "execution_count": 20,
   "metadata": {},
   "outputs": [
    {
     "name": "stderr",
     "output_type": "stream",
     "text": [
      "C:\\Users\\jsain\\Anaconda3\\lib\\site-packages\\numpy\\_distributor_init.py:32: UserWarning: loaded more than 1 DLL from .libs:\n",
      "C:\\Users\\jsain\\Anaconda3\\lib\\site-packages\\numpy\\.libs\\libopenblas.PYQHXLVVQ7VESDPUVUADXEVJOBGHJPAY.gfortran-win_amd64.dll\n",
      "C:\\Users\\jsain\\Anaconda3\\lib\\site-packages\\numpy\\.libs\\libopenblas.XWYDX2IKJW2NMTWSFYNGFUWKQU3LYTCZ.gfortran-win_amd64.dll\n",
      "  stacklevel=1)\n"
     ]
    }
   ],
   "source": [
    "import pandas as pd\n",
    "import numpy as np\n",
    "import os\n",
    "import csv\n",
    "from datetime import datetime\n",
    "from datetime import timedelta\n",
    "from bs4 import BeautifulSoup"
   ]
  },
  {
   "cell_type": "markdown",
   "metadata": {},
   "source": [
    "# 1 Código"
   ]
  },
  {
   "cell_type": "markdown",
   "metadata": {},
   "source": [
    "## Lectura inicial de la página"
   ]
  },
  {
   "cell_type": "markdown",
   "metadata": {},
   "source": [
    "### Opción dinámica"
   ]
  },
  {
   "cell_type": "markdown",
   "metadata": {},
   "source": [
    "Necesario tener instalado selenium (pip install selenium) y descargado el [crome driver](https://chromedriver.chromium.org/downloads) para la versión de tu navegador Chrome."
   ]
  },
  {
   "cell_type": "code",
   "execution_count": 2,
   "metadata": {},
   "outputs": [],
   "source": [
    "from selenium import webdriver\n",
    "from selenium.webdriver.common.keys import Keys"
   ]
  },
  {
   "cell_type": "code",
   "execution_count": 22,
   "metadata": {},
   "outputs": [
    {
     "name": "stderr",
     "output_type": "stream",
     "text": [
      "C:\\Users\\jsain\\Anaconda3\\lib\\site-packages\\ipykernel_launcher.py:3: DeprecationWarning: use options instead of chrome_options\n",
      "  This is separate from the ipykernel package so we can avoid doing imports until\n"
     ]
    }
   ],
   "source": [
    "options = webdriver.ChromeOptions()\n",
    "options.add_argument('user-agent = Mozilla/5.0 (Windows NT 6.1) AppleWebKit/537.36 (KHTML, like Gecko) Chrome/41.0.2228.0 Safari/537.36')\n",
    "driver = webdriver.Chrome(chrome_options=options)\n",
    "driver.get(\"https://genealogy.math.ndsu.nodak.edu/\")"
   ]
  },
  {
   "cell_type": "markdown",
   "metadata": {},
   "source": [
    "Tras ejecutar esta celda introducir el termino que se quiere buscar en la barra de búsqueda, después pulsar el botón de búsqueda (no cerrar la pestaña)."
   ]
  },
  {
   "cell_type": "code",
   "execution_count": 126,
   "metadata": {
    "scrolled": true
   },
   "outputs": [],
   "source": [
    "#cargamos el contenido (ya se podría cerrar la pestaña)\n",
    "soup = BeautifulSoup(driver.page_source)"
   ]
  },
  {
   "cell_type": "markdown",
   "metadata": {},
   "source": [
    "### Opción estática"
   ]
  },
  {
   "cell_type": "code",
   "execution_count": 116,
   "metadata": {},
   "outputs": [],
   "source": [
    "import requests\n",
    "\n",
    "#habría que configurar también la cabecera pero para hacer una petición no hace falta\n",
    "params = {\n",
    "    'searchTerms': 'pepe'\n",
    "}\n",
    "page = requests.post('https://genealogy.math.ndsu.nodak.edu/quickSearch.php', params=params)\n",
    "soup = BeautifulSoup(page.content)"
   ]
  },
  {
   "cell_type": "markdown",
   "metadata": {},
   "source": [
    "## Web scraping de la búsqueda"
   ]
  },
  {
   "cell_type": "code",
   "execution_count": 142,
   "metadata": {
    "scrolled": true
   },
   "outputs": [
    {
     "name": "stdout",
     "output_type": "stream",
     "text": [
      "[<tr><td><a href=\"id.php?id=265747\">Nguengue Louvouandou, Apépé Jugeandène</a></td>\n",
      "<td>Marien Ngouabi University</td>\n",
      "<td>2019</td></tr>, <tr><td><a href=\"id.php?id=79520\">Pepe, James</a></td>\n",
      "<td>Massachusetts Institute of Technology</td>\n",
      "<td>1972</td></tr>, <tr><td><a href=\"id.php?id=25297\">Pepe, Margaret</a></td>\n",
      "<td>University of Washington</td>\n",
      "<td>1986</td></tr>, <tr><td><a href=\"id.php?id=2593\">Pepe, Wilfrid</a></td>\n",
      "<td>Indiana University</td>\n",
      "<td>1966</td></tr>, <tr><td><a href=\"id.php?id=137357\">Pepe, William</a></td>\n",
      "<td>University of Connecticut</td>\n",
      "<td>2007</td></tr>, <tr><td><a href=\"id.php?id=141256\">Peperko, Aljoša</a></td>\n",
      "<td>University of Ljubljana</td>\n",
      "<td>2008</td></tr>, <tr><td><a href=\"id.php?id=197815\">Peperstraete, Jan</a></td>\n",
      "<td></td>\n",
      "<td></td></tr>, <tr><td><a href=\"id.php?id=109182\">Quintana, Jose (Pepe)</a></td>\n",
      "<td>University of Warwick</td>\n",
      "<td>1987</td></tr>]\n"
     ]
    }
   ],
   "source": [
    "main_content = soup.find(id='mainContent').table\n",
    "authors_searched = main_content.find_all('tr')\n",
    "print(authors_searched)"
   ]
  },
  {
   "cell_type": "code",
   "execution_count": 144,
   "metadata": {},
   "outputs": [],
   "source": [
    "import re\n",
    "\n",
    "# función que dada una lista de autores extraída de la búsqueda devuelve sus ids\n",
    "# para luego hacer peticiones con cada id a https://genealogy.math.ndsu.nodak.edu/id.php?id=<id>\n",
    "# y de ahí extraer la info\n",
    "def authors_ids(authors_searched):\n",
    "    ids = []\n",
    "    for author in authors_searched:\n",
    "        link = author.find('a').get('href')\n",
    "        id = re.search('id=(.*)', link).group(1)\n",
    "        ids.append(id)\n",
    "    return ids"
   ]
  },
  {
   "cell_type": "code",
   "execution_count": 146,
   "metadata": {
    "scrolled": true
   },
   "outputs": [
    {
     "name": "stdout",
     "output_type": "stream",
     "text": [
      "['265747', '79520', '25297', '2593', '137357', '141256', '197815', '109182']\n"
     ]
    }
   ],
   "source": [
    "print(authors_ids(authors_searched))"
   ]
  },
  {
   "cell_type": "markdown",
   "metadata": {},
   "source": [
    "## Lectura de la página de un autor"
   ]
  },
  {
   "cell_type": "code",
   "execution_count": null,
   "metadata": {},
   "outputs": [],
   "source": [
    "#TODO"
   ]
  },
  {
   "cell_type": "markdown",
   "metadata": {},
   "source": [
    "## Web scraping de la página de un autor"
   ]
  },
  {
   "cell_type": "code",
   "execution_count": null,
   "metadata": {},
   "outputs": [],
   "source": [
    "#TODO"
   ]
  },
  {
   "cell_type": "markdown",
   "metadata": {},
   "source": [
    "# 2 Preguntas sobre el dataset generado"
   ]
  },
  {
   "cell_type": "markdown",
   "metadata": {},
   "source": [
    "Lorem ipsum dolor sit amet, consectetur adipiscing elit, sed do eiusmod tempor incididunt ut labore et dolore magna aliqua. Leo duis ut diam quam nulla porttitor massa id neque. Orci porta non pulvinar neque laoreet suspendisse interdum consectetur libero. Lectus sit amet est placerat in egestas erat imperdiet. Adipiscing elit duis tristique sollicitudin nibh sit amet commodo. Mauris augue neque gravida in fermentum et sollicitudin ac orci. Aliquet eget sit amet tellus cras adipiscing enim eu. Egestas egestas fringilla phasellus faucibus scelerisque eleifend donec. Quis vel eros donec ac odio tempor orci. Lacus vel facilisis volutpat est. Sed viverra tellus in hac habitasse platea dictumst. Mattis pellentesque id nibh tortor id aliquet lectus proin nibh. Id velit ut tortor pretium viverra suspendisse."
   ]
  }
 ],
 "metadata": {
  "kernelspec": {
   "display_name": "Python 3",
   "language": "python",
   "name": "python3"
  },
  "language_info": {
   "codemirror_mode": {
    "name": "ipython",
    "version": 3
   },
   "file_extension": ".py",
   "mimetype": "text/x-python",
   "name": "python",
   "nbconvert_exporter": "python",
   "pygments_lexer": "ipython3",
   "version": "3.7.3"
  }
 },
 "nbformat": 4,
 "nbformat_minor": 4
}
