{
 "cells": [
  {
   "cell_type": "markdown",
   "metadata": {},
   "source": [
    "# 0 Librerías necesarias"
   ]
  },
  {
   "cell_type": "code",
   "execution_count": null,
   "metadata": {},
   "outputs": [],
   "source": [
    "import pandas as pd\n",
    "import numpy as np\n",
    "import os\n",
    "import csv\n",
    "from datetime import datetime\n",
    "from datetime import timedelta\n",
    "from bs4 import BeautifulSoup"
   ]
  },
  {
   "cell_type": "markdown",
   "metadata": {},
   "source": [
    "# 1 Código"
   ]
  },
  {
   "cell_type": "code",
   "execution_count": null,
   "metadata": {},
   "outputs": [],
   "source": []
  },
  {
   "cell_type": "markdown",
   "metadata": {},
   "source": [
    "# 2 Preguntas sobre el dataset generado"
   ]
  },
  {
   "cell_type": "markdown",
   "metadata": {},
   "source": [
    "Lorem ipsum dolor sit amet, consectetur adipiscing elit, sed do eiusmod tempor incididunt ut labore et dolore magna aliqua. Leo duis ut diam quam nulla porttitor massa id neque. Orci porta non pulvinar neque laoreet suspendisse interdum consectetur libero. Lectus sit amet est placerat in egestas erat imperdiet. Adipiscing elit duis tristique sollicitudin nibh sit amet commodo. Mauris augue neque gravida in fermentum et sollicitudin ac orci. Aliquet eget sit amet tellus cras adipiscing enim eu. Egestas egestas fringilla phasellus faucibus scelerisque eleifend donec. Quis vel eros donec ac odio tempor orci. Lacus vel facilisis volutpat est. Sed viverra tellus in hac habitasse platea dictumst. Mattis pellentesque id nibh tortor id aliquet lectus proin nibh. Id velit ut tortor pretium viverra suspendisse."
   ]
  }
 ],
 "metadata": {
  "kernelspec": {
   "display_name": "Python 3",
   "language": "python",
   "name": "python3"
  },
  "language_info": {
   "codemirror_mode": {
    "name": "ipython",
    "version": 3
   },
   "file_extension": ".py",
   "mimetype": "text/x-python",
   "name": "python",
   "nbconvert_exporter": "python",
   "pygments_lexer": "ipython3",
   "version": "3.7.3"
  }
 },
 "nbformat": 4,
 "nbformat_minor": 4
}
